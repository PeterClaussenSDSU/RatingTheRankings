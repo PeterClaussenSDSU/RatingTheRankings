{
 "cells": [
  {
   "cell_type": "markdown",
   "metadata": {},
   "source": [
    "# Web Scraping \n",
    "## A Gentle Introduction\n",
    "\n",
    "### The Problem\n",
    "\n",
    "\n",
    "- Visit the NIST Statistical Reference Data Set [](https://www.itl.nist.gov/div898/strd/anova/SiRstv.html)\n",
    "- Use the data in [Data File in Two-Column Format](https://www.itl.nist.gov/div898/strd/anova/SiRstv.dat)\n",
    "- Reproduce the [image](https://www.itl.nist.gov/div898/strd/anova/SiRstv.gif)\n",
    "\n",
    "\n",
    "### Manual Solution\n",
    "- Download file to local drive\n",
    "- Edit in text editor to remove comments\n",
    "- Read using standard data table functions"
   ]
  },
  {
   "cell_type": "markdown",
   "metadata": {},
   "source": [
    "Python Solution"
   ]
  },
  {
   "cell_type": "code",
   "execution_count": 1,
   "metadata": {},
   "outputs": [
    {
     "data": {
      "text/plain": [
       "<matplotlib.axes._subplots.AxesSubplot at 0x121ce3890>"
      ]
     },
     "execution_count": 1,
     "metadata": {},
     "output_type": "execute_result"
    }
   ],
   "source": [
    "import pandas\n",
    "tbl = pandas.read_table('./SiRstv.dat',sep='\\s+')\n",
    "tbl.plot.scatter(x='Instrument', y='Resistance')"
   ]
  },
  {
   "cell_type": "code",
   "execution_count": 2,
   "metadata": {},
   "outputs": [
    {
     "data": {
      "image/png": "[encoded data removed]",
      "text/plain": [
       "<Figure size 432x288 with 1 Axes>"
      ]
     },
     "metadata": {
      "needs_background": "light"
     },
     "output_type": "display_data"
    }
   ],
   "source": [
    "import matplotlib.pyplot as plt\n",
    "plt.plot(tbl['Instrument'], tbl['Resistance'],'ko')\n",
    "plt.ylabel('Resistivity, ohm*cm')\n",
    "plt.xlabel('Instrument')\n",
    "plt.show()"
   ]
  },
  {
   "cell_type": "markdown",
   "metadata": {},
   "source": [
    "Next Steps\n",
    "========================================================\n",
    "\n",
    "We're a long way from web scraping. We had to download a file from the web to edit it into an appropriate format, deleting documentation. That's acceptable for a small exmaple, more interesting data will be larger and dynamic.\n",
    "\n",
    "Our next step towards web scraping will be to read files directly from the web. \n",
    "\n",
    "\n",
    "Skipping lines"
   ]
  },
  {
   "cell_type": "markdown",
   "metadata": {},
   "source": [
    "This produces an error\n",
    "tbl = pandas.read_table('http://www.itl.nist.gov/div898/strd/anova/SiRstv.dat',sep='\\s+')"
   ]
  },
  {
   "cell_type": "code",
   "execution_count": 12,
   "metadata": {},
   "outputs": [
    {
     "data": {
      "image/png": "[encoded data removed]",
      "text/plain": [
       "<Figure size 432x288 with 1 Axes>"
      ]
     },
     "metadata": {
      "needs_background": "light"
     },
     "output_type": "display_data"
    }
   ],
   "source": [
    "tbl = pandas.read_table('http://www.itl.nist.gov/div898/strd/anova/SiRstv.dat',sep='\\s+',skiprows=59)\n",
    "tbl.rename(columns = {'Data:':'Instrument', 'Instrument':'Resistance', \n",
    "                              'Resistance':'Blank'}, inplace = True) \n",
    "plt.plot(tbl['Instrument'], tbl['Resistance'],'ko')\n",
    "plt.ylabel('Resistivity, ohm*cm')\n",
    "plt.xlabel('Instrument')\n",
    "plt.show()"
   ]
  },
  {
   "cell_type": "code",
   "execution_count": 14,
   "metadata": {},
   "outputs": [
    {
     "name": "stdout",
     "output_type": "stream",
     "text": [
      "  Instrument       Resistance\n",
      "           1         196.3052\n",
      "           1         196.1240\n",
      "           1         196.1890\n",
      "           1         196.2569\n",
      "           1         196.3403\n",
      "           2         196.3042\n",
      "           2         196.3825\n",
      "           2         196.1669\n",
      "           2         196.3257\n",
      "           2         196.0422\n",
      "           3         196.1303\n",
      "           3         196.2005\n",
      "           3         196.2889\n",
      "           3         196.0343\n",
      "           3         196.1811\n",
      "           4         196.2795\n",
      "           4         196.1748\n",
      "           4         196.1494\n",
      "           4         196.1485\n",
      "           4         195.9885\n",
      "           5         196.2119\n",
      "           5         196.1051\n",
      "           5         196.1850\n",
      "           5         196.0052\n",
      "           5         196.2090\n",
      "\n"
     ]
    }
   ],
   "source": [
    "fin = open('./SiRstv.dat','r')\n",
    "txt = fin.read()\n",
    "fin.close()\n",
    "print(txt)"
   ]
  },
  {
   "cell_type": "code",
   "execution_count": 15,
   "metadata": {},
   "outputs": [
    {
     "name": "stdout",
     "output_type": "stream",
     "text": [
      "b'NIST/ITL StRD \\r\\nDataset Name:   SiRstv     (SiRstv.dat)\\r\\n\\r\\n\\r\\nFile Format:    ASCII\\r\\n                Certified Values   (lines 41 to 47)\\r\\n                Data               (lines 61 to 85) \\r\\n\\r\\n\\r\\nProcedure:      Analysis of Variance\\r\\n\\r\\n\\r\\nReference:      Ehrstein, James and Croarkin, M. Carroll.\\r\\n                Unpublished NIST dataset.\\r\\n\\r\\n\\r\\nData:           1 Factor\\r\\n                5 Treatments\\r\\n                5  Replicates/Cell\\r\\n                25 Observations\\r\\n                3 Constant Leading Digits\\r\\n                Lower Level of Difficulty\\r\\n                Observed Data\\r\\n\\r\\n\\r\\nModel:          6 Parameters (mu,tau_1, ... , tau_5)\\r\\n                y_{ij} = mu + tau_i + epsilon_{ij}\\r\\n\\r\\n\\r\\n\\r\\n\\r\\n\\r\\n\\r\\n\\r\\n\\r\\nCertified Values:\\r\\n\\r\\nSource of                  Sums of               Mean               \\r\\nVariation          df      Squares              Squares             F Statistic\\r\\n\\r\\nBetween Instrument  4 5.11462616000000E-02 1.27865654000000E-02 1.18046237440255E+00\\r\\nWithin Instrument  20 2.16636560000000E-01 1.08318280000000E-02\\r\\n\\r\\n                   Certified R-Squared 1.90999039051129E-01\\r\\n\\r\\n                   Certified Residual\\r\\n                   Standard Deviation  1.04076068334656E-01\\r\\n\\r\\n\\r\\n\\r\\n\\r\\n\\r\\n\\r\\n\\r\\n\\r\\n\\r\\n\\r\\n\\r\\n\\r\\nData:  Instrument   Resistance\\r\\n           1         196.3052\\r\\n           1         196.1240\\r\\n           1         196.1890\\r\\n           1         196.2569\\r\\n           1         196.3403\\r\\n           2         196.3042\\r\\n           2         196.3825\\r\\n           2         196.1669\\r\\n           2         196.3257\\r\\n           2         196.0422\\r\\n           3         196.1303\\r\\n           3         196.2005\\r\\n           3         196.2889\\r\\n           3         196.0343\\r\\n           3         196.1811\\r\\n           4         196.2795\\r\\n           4         196.1748\\r\\n           4         196.1494\\r\\n           4         196.1485\\r\\n           4         195.9885\\r\\n           5         196.2119\\r\\n           5         196.1051\\r\\n           5         196.1850\\r\\n           5         196.0052\\r\\n           5         196.2090\\r\\n'\n"
     ]
    }
   ],
   "source": [
    "import urllib\n",
    "url = urllib.request.urlopen('http://www.itl.nist.gov/div898/strd/anova/SiRstv.dat')\n",
    "txt = url.read()\n",
    "url.close()\n",
    "print(txt)"
   ]
  },
  {
   "cell_type": "code",
   "execution_count": 37,
   "metadata": {},
   "outputs": [
    {
     "name": "stdout",
     "output_type": "stream",
     "text": [
      "16\n"
     ]
    }
   ],
   "source": [
    "url = urllib.request.urlopen('http://www.itl.nist.gov/div898/strd/anova/SiRstv.dat')\n",
    "lines = 0\n",
    "while True:\n",
    "    line = url.readline().decode('utf-8')\n",
    "    if not line:\n",
    "        break\n",
    "    if re.match('Data:', line, flags=0) == None:\n",
    "        lines += 1\n",
    "    else:\n",
    "        break\n",
    "print(lines)\n",
    "url.close()"
   ]
  },
  {
   "cell_type": "code",
   "execution_count": 24,
   "metadata": {},
   "outputs": [
    {
     "name": "stdout",
     "output_type": "stream",
     "text": [
      "<re.Match object; span=(0, 5), match='Data:'>\n",
      "None\n",
      "False\n"
     ]
    }
   ],
   "source": [
    "import re\n",
    "match = re.match('Data:', 'Data:  Instrument   Resistance\\r\\n', flags=0)\n",
    "print(match)\n",
    "match = re.match('Data:', 'Instrument   Resistance\\r\\n', flags=0)\n",
    "print(match)\n",
    "print(match != None)"
   ]
  },
  {
   "cell_type": "code",
   "execution_count": 42,
   "metadata": {},
   "outputs": [
    {
     "name": "stdout",
     "output_type": "stream",
     "text": [
      "          0     1\n",
      "0  NIST/ITL  StRD\n"
     ]
    },
    {
     "data": {
      "text/plain": [
       "False"
      ]
     },
     "execution_count": 42,
     "metadata": {},
     "output_type": "execute_result"
    }
   ],
   "source": [
    "import io \n",
    "df = pandas.read_table(io.StringIO('NIST/ITL StRD \\r\\n'),sep='\\s+', header=None)\n",
    "print(df)\n",
    "pandas.api.types.is_numeric_dtype(df)"
   ]
  },
  {
   "cell_type": "code",
   "execution_count": 59,
   "metadata": {},
   "outputs": [
    {
     "name": "stdout",
     "output_type": "stream",
     "text": [
      "51\n"
     ]
    }
   ],
   "source": [
    "url = urllib.request.urlopen('http://www.itl.nist.gov/div898/strd/anova/SiRstv.dat')\n",
    "lines = 0\n",
    "while True:\n",
    "    line = url.readline().decode('utf-8')\n",
    "    bytes_read = len(line)\n",
    "    if not line:\n",
    "        break\n",
    "    line = line.strip()\n",
    "    if len(line)>0 :\n",
    "        current_row = pandas.read_table(io.StringIO(line),sep='\\s+', header=None)\n",
    "        if not pandas.api.types.is_numeric_dtype(current_row):\n",
    "            lines += 1\n",
    "        else:\n",
    "            print(line)            \n",
    "            break\n",
    "print(lines)\n",
    "url.close()"
   ]
  },
  {
   "cell_type": "code",
   "execution_count": 61,
   "metadata": {},
   "outputs": [
    {
     "name": "stdout",
     "output_type": "stream",
     "text": [
      "    Data:  Instrument  Resistance\n",
      "0       1    196.3052         NaN\n",
      "1       1    196.1240         NaN\n",
      "2       1    196.1890         NaN\n",
      "3       1    196.2569         NaN\n",
      "4       1    196.3403         NaN\n",
      "5       2    196.3042         NaN\n",
      "6       2    196.3825         NaN\n",
      "7       2    196.1669         NaN\n",
      "8       2    196.3257         NaN\n",
      "9       2    196.0422         NaN\n",
      "10      3    196.1303         NaN\n",
      "11      3    196.2005         NaN\n",
      "12      3    196.2889         NaN\n",
      "13      3    196.0343         NaN\n",
      "14      3    196.1811         NaN\n",
      "15      4    196.2795         NaN\n",
      "16      4    196.1748         NaN\n",
      "17      4    196.1494         NaN\n",
      "18      4    196.1485         NaN\n",
      "19      4    195.9885         NaN\n",
      "20      5    196.2119         NaN\n",
      "21      5    196.1051         NaN\n",
      "22      5    196.1850         NaN\n",
      "23      5    196.0052         NaN\n",
      "24      5    196.2090         NaN\n"
     ]
    },
    {
     "data": {
      "image/png": "[encoded data removed]",
      "text/plain": [
       "<Figure size 432x288 with 1 Axes>"
      ]
     },
     "metadata": {
      "needs_background": "light"
     },
     "output_type": "display_data"
    }
   ],
   "source": [
    "tbl = pandas.read_table('http://www.itl.nist.gov/div898/strd/anova/SiRstv.dat',sep='\\s+',skiprows=lines)\n",
    "print(tbl)\n",
    "tbl.rename(columns = {'Data:':'Instrument', 'Instrument':'Resistance', \n",
    "                              'Resistance':'Blank'}, inplace = True) \n",
    "plt.plot(tbl['Instrument'], tbl['Resistance'],'ko')\n",
    "plt.ylabel('Resistivity, ohm*cm')\n",
    "plt.xlabel('Instrument')\n",
    "plt.show()"
   ]
  },
  {
   "cell_type": "code",
   "execution_count": null,
   "metadata": {},
   "outputs": [],
   "source": []
  }
 ],
 "metadata": {
  "kernelspec": {
   "display_name": "Python 3",
   "language": "python",
   "name": "python3"
  },
  "language_info": {
   "codemirror_mode": {
    "name": "ipython",
    "version": 3
   },
   "file_extension": ".py",
   "mimetype": "text/x-python",
   "name": "python",
   "nbconvert_exporter": "python",
   "pygments_lexer": "ipython3",
   "version": "3.7.4"
  }
 },
 "nbformat": 4,
 "nbformat_minor": 2
}
