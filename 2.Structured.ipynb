{
 "cells": [
  {
   "cell_type": "markdown",
   "metadata": {},
   "source": [
    "# Structured Text"
   ]
  },
  {
   "cell_type": "markdown",
   "metadata": {},
   "source": [
    "## The Problem\n",
    "\n",
    "I've followed NCAA Wrestling for many years, and lately have taken an interest in talent identification and athlete development.\n",
    "\n",
    "Consider, for example, the problem of recuiting collegiate wrestlers. Pontential scholarship athletes will commonly be screened from high school teams (in rare cases, international wrestlers may come from club teams); thus, there is consider interest in high school rankings. See, for example,\n",
    "\n",
    "- [Intermat](https://intermatwrestle.com/rankings/high_school)\n",
    "- [The Open Mat](https://news.theopenmat.com/category/high-school-wrestling/high-school-wrestling-rankings)\n",
    "- [WIN](https://www.win-magazine.com/category/hs-rankings/)\n",
    "\n",
    "It might be useful to compare these different ranking services to determine which are best at predicting collegiate success. To the end, I've decided to compare the 2015 high school class with the results from the 2018 NCAA tournament."
   ]
  },
  {
   "cell_type": "markdown",
   "metadata": {},
   "source": [
    "##  Manual Solution\n",
    "\n",
    "- Copied table from [The Open Mat]('https://news.theopenmat.com/high-school-wrestling/high-school-wrestling-rankings/final-2015-clinch-gear-national-high-school-wrestling-individual-rankings/57136') into Excel, edited and saved as [CSV](./openmat2015.csv)\n",
    "- Copied data from the 2018 NCAA Tournament from [PDF source](https://i.turner.ncaa.com/sites/default/files/external/gametool/brackets/wrestling_d1_2018.pdf) and from [FloArena](https://arena.flowrestling.org/event/8f1c1320-e1ac-31b5-c401-e7dda525e4b3) and compiled into [CSV](./ncaa2018.csv). These data also include final rankings from the Coaches Poll and [WrestleStat](https://www.wrestlestat.com/season/2018/rankings/starters) and results from various conference tournaments.\n",
    "\n",
    "\n",
    "Can we merge these two tables to determine how top rank 2015 high school wrestlers performed in 2018?"
   ]
  },
  {
   "cell_type": "code",
   "execution_count": null,
   "metadata": {},
   "outputs": [],
   "source": [
    "Read tables"
   ]
  },
  {
   "cell_type": "code",
   "execution_count": 45,
   "metadata": {},
   "outputs": [],
   "source": [
    "import pandas\n",
    "\n",
    "ncaa18_dat = pandas.read_csv(\"./ncaa2018.csv\")\n",
    "hs2015_dat = pandas.read_csv(\"./openmat2015.csv\")"
   ]
  },
  {
   "cell_type": "markdown",
   "metadata": {},
   "source": [
    "Remove the non-qualifiers from the NCAA data set."
   ]
  },
  {
   "cell_type": "code",
   "execution_count": 46,
   "metadata": {},
   "outputs": [],
   "source": [
    "ncaa18_dat = ncaa18_dat[ncaa18_dat.Finish != 'NQ']"
   ]
  },
  {
   "cell_type": "markdown",
   "metadata": {},
   "source": [
    "Process wrestler names in the high school set to match the NCAA format."
   ]
  },
  {
   "cell_type": "code",
   "execution_count": 47,
   "metadata": {},
   "outputs": [],
   "source": [
    "names = hs2015_dat['Name'].apply(lambda x: x.split(' '))\n",
    "names_dat = pandas.DataFrame(list(zip(*names)))\n",
    "names_dat = names_dat.T\n",
    "names_dat.rename(columns = {0:'First', 1:'Last'}, inplace = True)\n",
    "hs2015_dat = pandas.concat([hs2015_dat, names_dat], axis=1)"
   ]
  },
  {
   "cell_type": "code",
   "execution_count": null,
   "metadata": {},
   "outputs": [],
   "source": [
    "To simplify analysis, group ranks into quantiles:"
   ]
  },
  {
   "cell_type": "code",
   "execution_count": 65,
   "metadata": {},
   "outputs": [
    {
     "name": "stdout",
     "output_type": "stream",
     "text": [
      "     Weight  Rank               Name Year            School State  \\\n",
      "0       106     1        Cade Olivas  Fr.    St. John Bosco    CA   \n",
      "1       106     2  Roman Bravo-Young  Fr.         Sunnyside    AZ   \n",
      "2       106     3     Gavin Teasdale  Fr.  Jefferson-Morgan    PA   \n",
      "3       106     4        Drew Mattin  So.             Delta    OH   \n",
      "4       106     5         Real Woods  Fr.  Montini Catholic    IL   \n",
      "..      ...   ...                ...  ...               ...   ...   \n",
      "275     285    16         Bo Spiller  Sr.           Solanco    PA   \n",
      "276     285    17        Que Overton  Sr.             Jenks    OK   \n",
      "277     285    18        Elliott Lee  Sr.            Archer    GA   \n",
      "278     285    19     Norman Oglesby  Sr.    Benjamin Davis    IN   \n",
      "279     285    20        Nick Rivera  So.    Brick Memorial    NJ   \n",
      "\n",
      "                   College Previous    First         Last  Quartile  \n",
      "0                      NaN        1     Cade       Olivas         1  \n",
      "1                      NaN        2    Roman  Bravo-Young         1  \n",
      "2                      NaN        3    Gavin     Teasdale         1  \n",
      "3                      NaN        5     Drew       Mattin         1  \n",
      "4                      NaN        6     Real        Woods         1  \n",
      "..                     ...      ...      ...          ...       ...  \n",
      "275             Bloomsberg       19       Bo      Spiller         4  \n",
      "276    Oklahoma (Football)       HM      Que      Overton         4  \n",
      "277                    NaN  12(220)  Elliott          Lee         4  \n",
      "278  Cincinnati (Football)       NR   Norman      Oglesby         4  \n",
      "279                    NaN       NR     Nick       Rivera         4  \n",
      "\n",
      "[280 rows x 11 columns]\n"
     ]
    }
   ],
   "source": [
    "import math\n",
    "max_rank = max(hs2015_dat.Rank)\n",
    "hs2015_dat['Quartile'] = hs2015_dat['Rank'].apply(lambda x: math.ceil(4*x/max_rank))"
   ]
  },
  {
   "cell_type": "markdown",
   "metadata": {},
   "source": [
    "\n",
    "### How well does high school ranking predict participation in the NCAA tournament?\n"
   ]
  },
  {
   "cell_type": "code",
   "execution_count": 93,
   "metadata": {},
   "outputs": [
    {
     "data": {
      "text/html": [
       "<div>\n",
       "<style scoped>\n",
       "    .dataframe tbody tr th:only-of-type {\n",
       "        vertical-align: middle;\n",
       "    }\n",
       "\n",
       "    .dataframe tbody tr th {\n",
       "        vertical-align: top;\n",
       "    }\n",
       "\n",
       "    .dataframe thead th {\n",
       "        text-align: right;\n",
       "    }\n",
       "</style>\n",
       "<table border=\"1\" class=\"dataframe\">\n",
       "  <thead>\n",
       "    <tr style=\"text-align: right;\">\n",
       "      <th>Finish</th>\n",
       "      <th>1</th>\n",
       "      <th>2</th>\n",
       "      <th>3</th>\n",
       "      <th>4</th>\n",
       "      <th>5</th>\n",
       "      <th>6</th>\n",
       "      <th>7</th>\n",
       "      <th>8</th>\n",
       "      <th>cons 12</th>\n",
       "      <th>cons 16</th>\n",
       "      <th>cons 24</th>\n",
       "      <th>cons 32</th>\n",
       "      <th>cons 33</th>\n",
       "    </tr>\n",
       "    <tr>\n",
       "      <th>Quartile</th>\n",
       "      <th></th>\n",
       "      <th></th>\n",
       "      <th></th>\n",
       "      <th></th>\n",
       "      <th></th>\n",
       "      <th></th>\n",
       "      <th></th>\n",
       "      <th></th>\n",
       "      <th></th>\n",
       "      <th></th>\n",
       "      <th></th>\n",
       "      <th></th>\n",
       "      <th></th>\n",
       "    </tr>\n",
       "  </thead>\n",
       "  <tbody>\n",
       "    <tr>\n",
       "      <td>1</td>\n",
       "      <td>4</td>\n",
       "      <td>3</td>\n",
       "      <td>1</td>\n",
       "      <td>2</td>\n",
       "      <td>2</td>\n",
       "      <td>2</td>\n",
       "      <td>1</td>\n",
       "      <td>0</td>\n",
       "      <td>5</td>\n",
       "      <td>4</td>\n",
       "      <td>5</td>\n",
       "      <td>2</td>\n",
       "      <td>0</td>\n",
       "    </tr>\n",
       "    <tr>\n",
       "      <td>2</td>\n",
       "      <td>0</td>\n",
       "      <td>1</td>\n",
       "      <td>0</td>\n",
       "      <td>1</td>\n",
       "      <td>1</td>\n",
       "      <td>1</td>\n",
       "      <td>0</td>\n",
       "      <td>2</td>\n",
       "      <td>2</td>\n",
       "      <td>1</td>\n",
       "      <td>5</td>\n",
       "      <td>1</td>\n",
       "      <td>1</td>\n",
       "    </tr>\n",
       "    <tr>\n",
       "      <td>3</td>\n",
       "      <td>0</td>\n",
       "      <td>0</td>\n",
       "      <td>0</td>\n",
       "      <td>0</td>\n",
       "      <td>0</td>\n",
       "      <td>0</td>\n",
       "      <td>0</td>\n",
       "      <td>1</td>\n",
       "      <td>2</td>\n",
       "      <td>1</td>\n",
       "      <td>3</td>\n",
       "      <td>2</td>\n",
       "      <td>0</td>\n",
       "    </tr>\n",
       "    <tr>\n",
       "      <td>4</td>\n",
       "      <td>0</td>\n",
       "      <td>0</td>\n",
       "      <td>0</td>\n",
       "      <td>0</td>\n",
       "      <td>1</td>\n",
       "      <td>0</td>\n",
       "      <td>0</td>\n",
       "      <td>0</td>\n",
       "      <td>0</td>\n",
       "      <td>0</td>\n",
       "      <td>2</td>\n",
       "      <td>3</td>\n",
       "      <td>0</td>\n",
       "    </tr>\n",
       "  </tbody>\n",
       "</table>\n",
       "</div>"
      ],
      "text/plain": [
       "Finish    1  2  3  4  5  6  7  8  cons 12  cons 16  cons 24  cons 32  cons 33\n",
       "Quartile                                                                     \n",
       "1         4  3  1  2  2  2  1  0        5        4        5        2        0\n",
       "2         0  1  0  1  1  1  0  2        2        1        5        1        1\n",
       "3         0  0  0  0  0  0  0  1        2        1        3        2        0\n",
       "4         0  0  0  0  1  0  0  0        0        0        2        3        0"
      ]
     },
     "execution_count": 93,
     "metadata": {},
     "output_type": "execute_result"
    }
   ],
   "source": [
    "merged_dat = pandas.merge(hs2015_dat, ncaa18_dat, on=['First', 'Last'],how='inner')\n",
    "pandas.crosstab(merged_dat.Quartile,merged_dat.Finish)"
   ]
  },
  {
   "cell_type": "code",
   "execution_count": 94,
   "metadata": {},
   "outputs": [
    {
     "data": {
      "image/png": "[encoded data removed]",
      "text/plain": [
       "<Figure size 432x288 with 3 Axes>"
      ]
     },
     "metadata": {
      "needs_background": "light"
     },
     "output_type": "display_data"
    }
   ],
   "source": [
    "from statsmodels.graphics.mosaicplot import mosaic\n",
    "plt = mosaic(merged_dat, ['Quartile', 'Finish'])"
   ]
  },
  {
   "cell_type": "code",
   "execution_count": 95,
   "metadata": {},
   "outputs": [],
   "source": [
    "### What is the relationship between high school rank and NCAA place?"
   ]
  },
  {
   "cell_type": "code",
   "execution_count": 96,
   "metadata": {},
   "outputs": [
    {
     "data": {
      "text/html": [
       "<div>\n",
       "<style scoped>\n",
       "    .dataframe tbody tr th:only-of-type {\n",
       "        vertical-align: middle;\n",
       "    }\n",
       "\n",
       "    .dataframe tbody tr th {\n",
       "        vertical-align: top;\n",
       "    }\n",
       "\n",
       "    .dataframe thead th {\n",
       "        text-align: right;\n",
       "    }\n",
       "</style>\n",
       "<table border=\"1\" class=\"dataframe\">\n",
       "  <thead>\n",
       "    <tr style=\"text-align: right;\">\n",
       "      <th>Finish</th>\n",
       "      <th>1</th>\n",
       "      <th>2</th>\n",
       "      <th>3</th>\n",
       "      <th>4</th>\n",
       "      <th>5</th>\n",
       "      <th>6</th>\n",
       "      <th>7</th>\n",
       "      <th>8</th>\n",
       "      <th>NQ</th>\n",
       "      <th>cons 12</th>\n",
       "      <th>cons 16</th>\n",
       "      <th>cons 24</th>\n",
       "      <th>cons 32</th>\n",
       "      <th>cons 33</th>\n",
       "    </tr>\n",
       "    <tr>\n",
       "      <th>Quartile</th>\n",
       "      <th></th>\n",
       "      <th></th>\n",
       "      <th></th>\n",
       "      <th></th>\n",
       "      <th></th>\n",
       "      <th></th>\n",
       "      <th></th>\n",
       "      <th></th>\n",
       "      <th></th>\n",
       "      <th></th>\n",
       "      <th></th>\n",
       "      <th></th>\n",
       "      <th></th>\n",
       "      <th></th>\n",
       "    </tr>\n",
       "  </thead>\n",
       "  <tbody>\n",
       "    <tr>\n",
       "      <td>1.0</td>\n",
       "      <td>2</td>\n",
       "      <td>1</td>\n",
       "      <td>0</td>\n",
       "      <td>2</td>\n",
       "      <td>1</td>\n",
       "      <td>0</td>\n",
       "      <td>1</td>\n",
       "      <td>1</td>\n",
       "      <td>45</td>\n",
       "      <td>3</td>\n",
       "      <td>2</td>\n",
       "      <td>7</td>\n",
       "      <td>5</td>\n",
       "      <td>0</td>\n",
       "    </tr>\n",
       "    <tr>\n",
       "      <td>2.0</td>\n",
       "      <td>1</td>\n",
       "      <td>1</td>\n",
       "      <td>2</td>\n",
       "      <td>2</td>\n",
       "      <td>0</td>\n",
       "      <td>1</td>\n",
       "      <td>0</td>\n",
       "      <td>1</td>\n",
       "      <td>35</td>\n",
       "      <td>3</td>\n",
       "      <td>8</td>\n",
       "      <td>10</td>\n",
       "      <td>6</td>\n",
       "      <td>0</td>\n",
       "    </tr>\n",
       "    <tr>\n",
       "      <td>3.0</td>\n",
       "      <td>0</td>\n",
       "      <td>0</td>\n",
       "      <td>1</td>\n",
       "      <td>0</td>\n",
       "      <td>1</td>\n",
       "      <td>2</td>\n",
       "      <td>0</td>\n",
       "      <td>1</td>\n",
       "      <td>42</td>\n",
       "      <td>5</td>\n",
       "      <td>3</td>\n",
       "      <td>6</td>\n",
       "      <td>8</td>\n",
       "      <td>1</td>\n",
       "    </tr>\n",
       "    <tr>\n",
       "      <td>4.0</td>\n",
       "      <td>1</td>\n",
       "      <td>2</td>\n",
       "      <td>1</td>\n",
       "      <td>0</td>\n",
       "      <td>2</td>\n",
       "      <td>0</td>\n",
       "      <td>2</td>\n",
       "      <td>1</td>\n",
       "      <td>31</td>\n",
       "      <td>4</td>\n",
       "      <td>3</td>\n",
       "      <td>9</td>\n",
       "      <td>12</td>\n",
       "      <td>2</td>\n",
       "    </tr>\n",
       "    <tr>\n",
       "      <td>5.0</td>\n",
       "      <td>6</td>\n",
       "      <td>6</td>\n",
       "      <td>6</td>\n",
       "      <td>6</td>\n",
       "      <td>6</td>\n",
       "      <td>7</td>\n",
       "      <td>7</td>\n",
       "      <td>6</td>\n",
       "      <td>0</td>\n",
       "      <td>25</td>\n",
       "      <td>24</td>\n",
       "      <td>48</td>\n",
       "      <td>49</td>\n",
       "      <td>7</td>\n",
       "    </tr>\n",
       "  </tbody>\n",
       "</table>\n",
       "</div>"
      ],
      "text/plain": [
       "Finish    1  2  3  4  5  6  7  8  NQ  cons 12  cons 16  cons 24  cons 32  \\\n",
       "Quartile                                                                   \n",
       "1.0       2  1  0  2  1  0  1  1  45        3        2        7        5   \n",
       "2.0       1  1  2  2  0  1  0  1  35        3        8       10        6   \n",
       "3.0       0  0  1  0  1  2  0  1  42        5        3        6        8   \n",
       "4.0       1  2  1  0  2  0  2  1  31        4        3        9       12   \n",
       "5.0       6  6  6  6  6  7  7  6   0       25       24       48       49   \n",
       "\n",
       "Finish    cons 33  \n",
       "Quartile           \n",
       "1.0             0  \n",
       "2.0             0  \n",
       "3.0             1  \n",
       "4.0             2  \n",
       "5.0             7  "
      ]
     },
     "execution_count": 96,
     "metadata": {},
     "output_type": "execute_result"
    }
   ],
   "source": [
    "merged_dat = pandas.merge(hs2015_dat, ncaa18_dat, on=['First', 'Last'],how='outer',left_index=True, right_index=True)\n",
    "merged_dat['Quartile']=merged_dat.Quartile.fillna(5)\n",
    "merged_dat['Finish']=merged_dat.Finish.fillna('NQ')\n",
    "pandas.crosstab(merged_dat.Quartile,merged_dat.Finish)"
   ]
  },
  {
   "cell_type": "code",
   "execution_count": 91,
   "metadata": {},
   "outputs": [
    {
     "data": {
      "image/png": "[encoded data removed]",
      "text/plain": [
       "<Figure size 432x288 with 3 Axes>"
      ]
     },
     "metadata": {
      "needs_background": "light"
     },
     "output_type": "display_data"
    }
   ],
   "source": [
    "from statsmodels.graphics.mosaicplot import mosaic\n",
    "plt = mosaic(merged_dat, ['Quartile', 'Finish'])"
   ]
  },
  {
   "cell_type": "markdown",
   "metadata": {},
   "source": [
    "# Web Scraping solution\n",
    "\n",
    "The data in `openmat2015.csv` were copied from a table in\n",
    "\n",
    "https://news.theopenmat.com/high-school-wrestling/high-school-wrestling-rankings/final-2015-clinch-gear-national-high-school-wrestling-individual-rankings/57136\n",
    "\n",
    "Can we 'scrape' this table directly?"
   ]
  },
  {
   "cell_type": "code",
   "execution_count": 97,
   "metadata": {},
   "outputs": [],
   "source": [
    "path = 'https://news.theopenmat.com/high-school-wrestling/high-school-wrestling-rankings/final-2015-clinch-gear-national-high-school-wrestling-individual-rankings/57136'"
   ]
  },
  {
   "cell_type": "code",
   "execution_count": 68,
   "metadata": {},
   "outputs": [
    {
     "name": "stdout",
     "output_type": "stream",
     "text": [
      "<Element html at 0x1091b38f0>\n",
      "b'!DOCTYPE html><html lang=\"en-US\"><head><meta charset=\"UTF-8\">\\n<script type=\"text/javascript\">\\n\\tvar '\n"
     ]
    }
   ],
   "source": [
    "from lxml import html\n",
    "import requests\n",
    "page = requests.get(path)\n",
    "tree = html.fromstring(page.content)\n",
    "print(tree)\n",
    "\n",
    "print(page.content[1:100])\n"
   ]
  },
  {
   "cell_type": "code",
   "execution_count": 73,
   "metadata": {},
   "outputs": [
    {
     "name": "stdout",
     "output_type": "stream",
     "text": [
      "[<Element table at 0x1091b3f50>]\n"
     ]
    }
   ],
   "source": [
    "table = tree.xpath('//table')\n",
    "print(table)"
   ]
  },
  {
   "cell_type": "code",
   "execution_count": 74,
   "metadata": {},
   "outputs": [
    {
     "name": "stdout",
     "output_type": "stream",
     "text": [
      "['\\n', <Element thead at 0x1091b3ef0>, '\\n', <Element tbody at 0x11cbf08f0>, '\\n']\n"
     ]
    }
   ],
   "source": [
    "table = tree.xpath('//table/node()')\n",
    "print(table)"
   ]
  },
  {
   "cell_type": "code",
   "execution_count": 88,
   "metadata": {},
   "outputs": [
    {
     "name": "stdout",
     "output_type": "stream",
     "text": [
      "[<Element th at 0x11cbf0a70>, <Element th at 0x11cbf0c50>, <Element th at 0x11cbf0cb0>, <Element th at 0x11cbf0d10>, <Element th at 0x11cbf0d70>, <Element th at 0x11cbf0dd0>, <Element th at 0x11cbf0e30>]\n",
      "['Rank', 'First Last', 'Year', 'School ', 'State', 'College', 'Previous']\n",
      "['Rank', 'First Last', 'Year', 'School ', 'State', 'College', 'Previous']\n"
     ]
    }
   ],
   "source": [
    "table_head = table[1].xpath('//th')\n",
    "print(table_head)\n",
    "print(table[1].xpath('//th/text()'))\n",
    "print(table[1].xpath('//th/node()'))"
   ]
  },
  {
   "cell_type": "code",
   "execution_count": 77,
   "metadata": {},
   "outputs": [
    {
     "name": "stdout",
     "output_type": "stream",
     "text": [
      "['Rank', 'First Last', 'Year', 'School ', 'State', 'College', 'Previous']\n"
     ]
    }
   ],
   "source": [
    "table_head = table[1].xpath('//th/node()')\n",
    "print(table_head)"
   ]
  },
  {
   "cell_type": "code",
   "execution_count": 79,
   "metadata": {},
   "outputs": [
    {
     "name": "stdout",
     "output_type": "stream",
     "text": [
      "[<Element tbody at 0x11cbf08f0>]\n"
     ]
    }
   ],
   "source": [
    "table_body = table[3].xpath('//tbody')\n",
    "print(table_body)"
   ]
  },
  {
   "cell_type": "code",
   "execution_count": 111,
   "metadata": {},
   "outputs": [
    {
     "name": "stdout",
     "output_type": "stream",
     "text": [
      "['\\n', <Element tr at 0x10c2cd830>, '\\n', <Element tr at 0x10c2cda70>, '\\n', <Element tr at 0x10c2cdad0>, '\\n', <Element tr at 0x10c2cdb30>, '\\n']\n"
     ]
    }
   ],
   "source": [
    "table_body_n = table[3].xpath('//tbody/node()')\n",
    "print(table_body_n[0:9])"
   ]
  },
  {
   "cell_type": "markdown",
   "metadata": {},
   "source": [
    "https://www.crummy.com/software/BeautifulSoup/"
   ]
  },
  {
   "cell_type": "code",
   "execution_count": 114,
   "metadata": {},
   "outputs": [
    {
     "name": "stdout",
     "output_type": "stream",
     "text": [
      "<Element tr at 0x10c2cdb90>\n",
      "\n",
      "\t\n",
      "['row-6 even']\n",
      "[('class', 'row-6 even')]\n",
      "['class']\n",
      "['\\n\\t', <Element th at 0x11cbf0a70>, <Element th at 0x11cbf0c50>, <Element th at 0x11cbf0cb0>, <Element th at 0x11cbf0d10>, <Element th at 0x11cbf0d70>, <Element th at 0x11cbf0dd0>, <Element th at 0x11cbf0e30>, '\\n']\n",
      "['106', '1', 'Cade Olivas', 'Fr.', 'St. John Bosco', 'CA', '1', '2', 'Roman Bravo-Young']\n",
      "['\\n\\t', '\\n', '\\n\\t', '\\n', '\\n\\t', '\\n', '\\n\\t', '\\n', '\\n\\t']\n",
      "['106', '1', 'Cade Olivas', 'Fr.', 'St. John Bosco', 'CA', '1', '2', 'Roman Bravo-Young']\n"
     ]
    }
   ],
   "source": [
    "table_row = table_body[9]\n",
    "print(table_row)\n",
    "print(table_row.text)\n",
    "print(table_row.values())\n",
    "print(table_row.items())\n",
    "print(table_row.keys())\n",
    "print(table_row.xpath('//tr/node()')[0:9])\n",
    "print(table_row.xpath('//td/node()')[0:9])\n",
    "print(table_row.xpath('//tr/text()')[0:9])\n",
    "print(table_row.xpath('//td/text()')[0:9])"
   ]
  },
  {
   "cell_type": "code",
   "execution_count": 103,
   "metadata": {},
   "outputs": [
    {
     "name": "stdout",
     "output_type": "stream",
     "text": [
      "['\\n\\t', <Element th at 0x11cbf0a70>, <Element th at 0x11cbf0c50>, <Element th at 0x11cbf0cb0>, <Element th at 0x11cbf0d10>, <Element th at 0x11cbf0d70>, <Element th at 0x11cbf0dd0>, <Element th at 0x11cbf0e30>, '\\n', '\\n\\t', <Element td at 0x11cbf0e90>, <Element td at 0x11cbf0a10>, <Element td at 0x11cbf0ef0>, <Element td at 0x11cbf07d0>, <Element td at 0x11cbf09b0>, <Element td at 0x11cbf0890>, <Element td at 0x11cbf0950>, '\\n', '\\n\\t', <Element td at 0x11cbf0530>]\n",
      "<class 'lxml.html.HtmlElement'>\n",
      "['column-5']\n"
     ]
    }
   ],
   "source": [
    "table_columns = table_row.xpath('//tr/node()')\n",
    "print(table_columns[0:20])\n",
    "print(type(table_columns[2]))\n",
    "print(table_columns[5].text)\n",
    "print(table_columns[5].values())"
   ]
  },
  {
   "cell_type": "code",
   "execution_count": null,
   "metadata": {},
   "outputs": [],
   "source": [
    "print(table_row.xpath('//tr/td/node()'))"
   ]
  },
  {
   "cell_type": "code",
   "execution_count": 43,
   "metadata": {},
   "outputs": [
    {
     "name": "stdout",
     "output_type": "stream",
     "text": [
      "<Element tr at 0x10c2fc3b0>\n",
      "<Element tr at 0x10c279b90>\n",
      "['106', '1', 'Cade Olivas', 'Fr.', 'St. John Bosco', 'CA', '1', '2', 'Roman Bravo-Young', 'Fr.', 'Sunnyside', 'AZ', '2', '3', 'Gavin Teasdale', 'Fr.', 'Jefferson-Morgan', 'PA', '3', '4', 'Drew Mattin', 'So.', 'Delta', 'OH', '5', '5', 'Real Woods', 'Fr.', 'Montini Catholic', 'IL', '6', '6', 'Jacori Teemer', 'Fr.', 'Long Beach', 'NY', '7', '7', 'Kade Evans ', 'Jr.', 'Davis', 'UT', '10', '8', 'Jaxon Cole', 'So.', 'North Summit', 'UT', '11', '9', 'Josh Humphreys', 'Fr.', 'Huntington', 'WV', '13', '10', 'Gerard Angelo', 'Fr.', 'Hanover Park', 'NJ', 'NR', '11', 'Jake Silverstein', 'Fr.', 'Hauppauge', 'NY', '17', '12', 'Michael McGee\\xa0', 'So.', 'Plainfield (East)', 'IL', 'NR', '13', 'Patrick Glory', 'Fr.', 'Delbarton', 'NJ', '20', '14', 'Thomas Cox', 'Jr.', 'Deer Park', 'NY', '18', '15', 'Brody Teske', 'Fr.', 'Fort Dodge', 'IA', 'NR', '16', 'Louis Hayes', 'Jr.', 'Carl Sandbury', 'IL', '15', '17', 'John Tropea', 'Jr.', 'St. Joseph Montvale', 'NJ', '9', '18', 'Aaron Burkett', 'Jr.', 'Chesnut Ridge', 'PA', 'NR', '19', 'Josh Venia', 'Jr.', 'Toledo CC', 'OH', 'NR', '20', 'Liam Cronin', 'Jr.', 'Servite', 'CA', 'NR', '113', '1', 'Justin Mejia', 'So.', 'Clovis', 'CA', \"Iowa '17\", '2', '2', 'Danny Vega', 'Jr.', 'Ironwood', 'AZ', '3', '3', 'Austin Gomez', 'So.', 'Glenbard North', 'IL', '4', '4', 'Jason Renteria', 'So.', 'Oak Park-River Forest', 'IL', \"Iowa '17\", '5', '5', 'Devin Brown', 'Sr.', 'Franklin Regional', 'PA', 'West Virginia', '6', '6', 'Jabari Moody', 'Sr.', 'Rich Central', 'IL', 'Virginia', '1', '7', 'Ian Timmins', 'So.', 'Wooster', 'NV', '7', '8', 'Garrett Pepple', 'Sr.', 'East Noble', 'IN', 'Indiana', '8', '9', 'Noah Baughman', 'Jr.', 'Wadsworth', 'OH', '10', '10', 'Mitch Moore', 'Fr.', 'St. Paris Graham', 'OH', '12', '11', 'Brandon Courtney', 'So.', 'Desert Eagle', 'AZ', '13', '12', 'Jaden Mattox', 'Fr.', 'Central Crossing', 'OH', '14', '13', 'Tommy Hoskins', 'Fr.', 'Dayton Christian\\xa0', 'OH', '15', '14', 'Paul Bianchi\\xa0', 'Jr.', 'Two Rivers', 'WI', '16', '15', 'Zach Sherman', 'So.', 'Blair Academy', 'NJ', '11', '16', 'Jack Wagner', 'Jr.', 'Bettendorf', 'IA', '18', '17', 'Joey Prata', 'Jr.', \"St. Christopher's\", 'VA', 'HM', '18', 'Gage Curry', 'Jr.', 'North Hills', 'PA', 'NR', '19', 'David Campbell', 'Jr.', 'Mission Oaks', 'CA', 'HM', '20', 'Alan Hart', 'So.', '\\xa0Edward', 'OH', '17', '120', '1', 'Spencer Lee', 'So.', 'Franklin Regional', 'PA', '1', '2', 'Nick Suriano', 'Jr.', 'Bergen Catholic', 'NJ', '2', '3', 'Yianni Diakomihalis', 'So.', 'Hilton', 'NY', 'Cornell', '3', '4', 'Daton Fix', 'So.', 'Sand Springs', 'OK', '4', '5', 'Kyle Norstrem', 'Jr.', 'Brandon', 'FL', \"Virginia Tech '16\", '5', '6', 'Jack Mueller', 'Jr.', 'Wyoming Seminary', 'PA', \"Virginia '16\", '6', '7', 'Elijah Oliver', 'Sr.', 'Washington', 'IL', 'Indiana', '7', '8', 'D.J. Lloren ', 'Jr.', 'Buchanan', 'CA', '8', '9', 'Devin Schroder', 'Jr.', 'Grand Rapids CC', 'MI', 'Purdue', '9', '10', 'Eli Stickley', 'Sr.', 'St. Paris Graham', 'OH', 'Wisconsin', '10', '11', 'Ty Agaisse', 'Jr.', 'Delbarton', 'NJ', \"Princeton '16\", '11', '12', 'Ben Freeman', 'So.', 'Walled Lake', 'MI', '13', '13', 'Montorie Bridges', 'Jr.', 'Altus', 'OK', '14', '14', 'Kaden Gfeller', 'So.', 'Heritage Hall', 'OK', '15', '15', 'Michael Cullen', 'Sr.', 'Cary Grove', 'IL', 'Wisconsin', 'NR', '16', 'Tyler Warner', 'Jr.', 'Claymont', 'OH', '12', '17', 'Travis Torres', 'Sr.', 'Pomona', 'CO', '19', '18', 'Alex Mackall', 'Jr.', 'Walsh Jesuit', 'OH', 'Rutgers', 'NR', '19', 'Alex Madrigal', 'Sr.', 'Oak Park-River Forest', 'IL', 'Old Dominion', '17', '20', 'Jake Newhouse', 'Jr.', 'Perry', 'OH', '18', '126', '1', 'Chad Red', 'Jr.', 'Palestine', 'IN', '1', '2', 'Nick Piccninni', 'Sr.', 'Ward Melville', 'NY', 'Oklahoma State', '2', '3', 'Rudy Yates', 'Jr.', 'Carl Sandburg', 'IL', '5', '4', 'Mitchell McKee', 'Jr.', 'St. Michael-Albertville', 'MN', \"Minnesota '16\", '3', '5', 'Markus Simmons', 'Sr.', 'Broken Arrow', 'OK', 'Iowa State', '6', '6', 'Sean DeShazer', 'Sr.', 'Wichita Heights', 'KS', 'Oklahoma', '8', '7', 'Eli Seipel\\xa0', 'Sr.', 'St. Paris Graham', 'OH', 'Pittsburgh', '10', '8', 'Luke Karam', 'Jr.', 'Bethlehem Catholic', 'PA', 'Bucknell', '12', '9', 'Jose Rodriguez', 'Sr.', 'Massillion Perry', 'OH', 'Ohio State', '13', '10', 'Israel Saavedra', 'Jr.', 'Modesto', 'CA', '4', '11', 'Austin Assad', 'Sr.', 'Brecksville', 'OH', 'Michigan', '7', '12', 'Taylor LaMont', 'Jr.', 'Maple Mountain', 'UT', '14', '13', 'Kris Williams', 'Sr.', 'Thornwood', 'IL', 'Illinois', '15', '14', 'Doyle Trout', 'Sr.', 'Centennial', 'NE', 'Wyoming', '16', '15', 'Nolan Hellickson', 'Sr.', 'Southeast Polk', 'IA', 'Harvard', '17', '16', 'Ben Lamantia', 'Sr.', 'St. Anthonys', 'NY', 'Michigan', '18', '17', 'Anthony Cefolo', 'Sr.', 'Hanover Park', 'NJ', 'South Dakota State', '11', '18', 'Hunter Marko', 'Jr.', 'Amery', 'WI', 'Wisconsin', 'HM', '19', 'Cody Karstetter', 'Sr.', 'Sand Springs', 'OK', 'NR', '20', 'Ryan Pomrinca', 'Sr.', 'North Hunterdon', 'NJ', 'Lehigh', '19', '132', '1', 'Jared Prince', 'Sr.', 'Palm Harbor', 'FL', 'Navy', '3', '2', 'Kaid Brock', 'Sr.', 'Stillwater', 'OK', 'Oklahoma State', '2', '3', 'A.C. Headlee', 'Sr.', 'Waynesburg', 'PA', 'North Carolina', '4', '4', 'Luke Pletcher', 'Jr.', 'Greater Latrobe', 'PA', '1', '5', 'Kegan Moore', 'Sr.', 'Putnam City', 'OK', 'West Virginia', '5', '6', 'Mickey Phillipi', 'Jr.', 'Derry Area', 'PA', '6', '7', 'Nick Lee', 'So.', 'Evansville', 'IN', '7', '8', 'Cameron Kelly', 'Sr.', 'Bellbrook', 'OH', 'Ohio', '8', '9', 'Chaz Tucker', 'Sr.', 'Blair Academy', 'NJ', 'Cornell', '9', '10', 'Lincoln Olson', 'Sr.', 'Davison', 'MI', 'Oklahoma State', '10', '11', 'Dylan Lucas', 'Sr.', 'Plainview', 'OK', 'Oklahoma', '11', '12', 'Rico Montoya', 'Sr.', 'Robertson', 'NM', 'Northern Colorado', '12', '13', 'Vitali Arujau', 'So.', 'Syosset', 'NY', '13', '14', \"Austin O'Connor\", 'So.', 'St. Rita', 'IL', '14', '15', 'Korbin Myers', 'Sr.', 'Boiling Springs', 'PA', 'Edinboro', '15', '16', 'Kanen Storr', 'Jr.', 'Lesie', 'MI', '18', '17', 'Julian Flores', 'Jr.', 'San Marino', 'CA', 'HM', '18', 'Jaden Enriquez', 'So.', 'Mission Oak', 'CA', '17', '19', 'Hunter Ladnier\\xa0', 'Jr.', 'St. Edward', 'OH', '16', '20', 'Juaquin Olivas', 'Sr.', 'Sunnyside', 'AZ', 'Grand Canyon', 'HM', '138', '1', 'Matt Kolodzik', 'Sr.', 'Blair Academy', 'NJ', 'Princeton', '2', '2', 'Ke-Shawn Hayes', 'Sr.', 'Park Hill', 'MO', 'Ohio State', '3', '3', 'Nate Limmex', 'Sr.', 'Grand Rapids CC', 'MI', 'Purdue', '5', '4', 'Davion Jeffries', 'Sr.', 'Broken Arrow', 'OK', 'Oklahoma', '7', '5', 'Sam Krivus', 'Sr.', 'Hempfield Area', 'PA', 'Virginia', '1', '6', 'Cameron Coy', 'So.', 'Penn Trafford', 'PA', 'Virginia', '6', '7', 'Boo Lewallen', 'Sr.', 'Yukon', 'OK', 'Oklahoma State', '13', '8', 'Will Roark', 'Sr.', 'Seneca', 'MO', 'Missouri', '4', '9', 'Ben Brancale', 'Sr.', 'Eden Prairie', 'MN', 'Minnesota', '9', '10', 'Brandon James', 'Sr.', 'Perry Meridian', 'IN', 'Old Dominion', '11', '11', 'Carter Happel', 'Jr.', 'Lisbon', 'IA', '12', '12', 'Jaydin Clayton', 'Sr.', 'Fulton', 'MO', 'Missouri', '14', '13', 'Wyatt Wickoff', 'Sr.', 'Paradise', 'CA', 'Army', 'HM', '14', 'Alex Rich', 'Sr.', 'Crescent Valley', 'OR', 'Oregon State', '15', '15', 'McCoy Kent', 'Sr.', 'Enoch', 'CA', 'Northern Illinois', '10', '16', 'David Carr', 'Fr.', 'Dayton Christian', 'OH', '17', '17', 'Richie Screptock', 'Sr.', 'Oregon Clay', 'OH', 'Central Michigan', '18', '18', 'Ethan Karsten', 'Jr.', 'Platte City', 'MO', '19', '19', 'Frankie Gissendanner', 'Fr.', 'Penfield', 'NY', 'HM', '20', 'Mike D’Angelo', 'Sr.', 'Commack', 'NY', 'Princeton', '16', '145', '1', 'Michael Kemerer', 'Sr.', 'Franklin Regional', 'PA', 'Iowa', '3', '2', 'Max Thomsen', 'Sr.', 'Union Community', 'IA', 'Northern Iowa', '1', '3', 'Fredy Stroker', 'Sr.', 'Bettendorf', 'IA', 'Minnesota', '2', '4', 'Patrick Duggan', 'Sr.', 'Cumberland Valley', 'PA', 'West Virginia', '5', '5', 'Larry Early', 'Sr.', 'Oak Park-River Forest', 'IL', 'Minnesota', '4', '6', 'Hayden Hidlay', 'Jr.', 'Mifflin County', 'PA', \"NC State '16\", '6', '7', 'Griffin Parriott', 'Jr.', 'New Prague', 'MN', '8', '8', 'Brent Moore', 'Jr.', 'St. Paris Graham', 'OH', '10', '9', 'Eric Barone', 'Sr.', 'Crystal Lake South', 'IL', 'Illinois', 'NR', '10', 'Zach Moore', 'Sr.', 'Putnam City', 'OK', 'West Virginia', 'HM', '11', 'Wade Hodges', 'Sr.', 'Wauseon\\xa0', 'OH', 'Maryland', '7', '12', 'Ralph Tovar', 'Sr.', 'Poway', 'CA', 'Grand Canyon', '12', '13', 'Bryce Parson', 'Sr.', 'Lewiston', 'ID', 'Oregon State', '14', '14', 'Tristan Moran', 'Sr.', 'Stillwater', 'OK', 'Oklahoma State', '13', '15', 'Tommy Dutton', 'Sr.', 'Rocky Point', 'NY', 'Harvard', '17', '16', 'Zander Wick', 'Jr.', 'San Marino', 'CA', '20', '17', 'Tristan Rifanburg', 'Sr.', 'Norwich', 'NY', 'Binghamton', '18', '18', 'Alec Donovan\\xa0', 'Sr.', 'Brick Memorial', 'NJ', 'HM', '19', 'Jared Verkleeren', 'So.', 'Belle Vernon', 'PA', '16', '20', 'Jeremy Thomas', 'Jr.', 'Santiago', 'CA', 'HM', '152', '1', 'Isaiah White', 'Jr.', 'Oak Park-River Forest', 'IL', '1', '2', 'Vincenzo Joseph', 'Sr.', 'Pittsburgh CC', 'PA', 'Penn State', '2', '3', 'Jordan Kutler', 'Sr.', 'Blair Academy', 'NJ', 'Lehigh', '3', '4', 'Brady Berge', 'So.', 'Kasson-Mantorville', 'MN', '4', '5', 'Jake Wentzel', 'Jr.', 'South Park', 'PA', \"Pitt '16\", '5', '6', 'Cameron Harrell', 'Sr.', 'McDonogh', 'MD', 'Virginia', '6', '7', 'Austin Kraisser', 'Jr.', 'Centennial', 'MD', '8', '8', 'Neal Richards', 'Sr.', 'Matoaca', 'VA', '10', '9', 'Patrick Lugo ', 'Sr.', 'South Dade', 'FL', 'Edinboro', '11', '10', 'Joe Tavoso', 'Sr.', 'Delbarton', 'NJ', 'Princeton', '12', '11', 'Josh Maruca', 'Sr.', 'Franklin Regional', 'PA', 'Arizona State', '7', '12', 'Tommy Forte', 'Sr.', 'Mishawaka', 'IN', 'Buffalo', '13', '13', 'Kyle Lawson', 'So.', 'St. Paris Graham', 'OH', '14', '14', 'Jake Restrepo', 'Sr.', 'Sachem East', 'NY', 'Maryland', '16', '15', 'Kaleb Young', 'Jr.', 'Punxsutawney', 'PA', \"Iowa '16\", '9', '16', 'Frank Garcia', 'Sr.', 'Norwich', 'NY', 'Binghamton', '17', '17', \"Johnny O'Hearon\", 'Sr.', 'Maple Mountain', 'UT', 'Utah Valley', '18', '18', 'Jake Adcock', 'Sr.', 'Pope', 'GA', 'Army', '19', '19', 'Zack Velasquez', 'Sr.', 'Ponderosa', 'CA', 'NR', '20', 'Michael Labriola', 'So.', 'Bethlehem Catholic', 'PA', 'NR', '160', '1', 'Alex Marinelli', 'Jr.', 'St. Paris Graham', 'OH', \"Iowa '16\", '1', '2', 'Josh Shields', 'Sr.', 'Franklin Regional', 'PA', 'Arizona State', '2', '3', 'David McFadden', 'Sr.', 'DePaul', 'NJ', 'Virginia Tech', '3', '4', 'Myles Amine', 'Sr.', 'Detroit Catholic Central', 'MI', 'Michigan', '5', '5', 'Cole Walter', 'Sr.', 'Mifflinburg', 'PA', 'Lehigh', '6', '6', 'Bryce Steiert', 'Sr.', 'Waverly-Shell Rock', 'IA', 'Northern Iowa', '8', '7', 'Chris Weiler', 'Jr.', 'Wyoming Seminary', 'PA', 'Lehigh', '9', '8', 'Devin Skatzka', 'Sr.', 'Richmond', 'MI', 'Indiana', '10', '9', 'Dayton Racer', 'Sr.', 'Betterndorf', 'IA', '7', '10', 'Brandon Dallavia', 'Jr.', 'Blair Academy', 'NJ', '11', '11', 'Drew Hughes', 'Jr.', 'Lowell', 'IN', '12', '12', 'Thomas Bullard', 'Jr.', 'Archer', 'GA', '14', '13', 'Colt Doyle', 'Sr.', 'Poway', 'CA', '15', '14', 'Andrew Fogarty', 'Sr.', 'Scott West', 'MN', 'North Dakota State', '19', '15', 'Matt Rundell', 'Sr.', 'Oak Park-River Forest', 'IL', 'North Carolina', '20', '16', 'Paden Moore', 'Sr.', 'Jackson County Central', 'MN', 'Northern Iowa', 'HM', '17', 'Adam Hudson', 'Sr.', 'Shelbyville', 'IL', 'NR', '18', 'Corbin Allen', 'Sr.', 'Hanover', 'VA', 'Virginia', 'NR', '19', 'Miguel Barreras', 'Sr.', 'Rio Rancho', 'NM', 'NR', '20', 'Cameron Loving', 'Sr.', 'Altus', 'OK', 'Wyoming', 'NR', '170', '1', 'Mark Hall', 'Jr.', 'Apple Valley', 'MN', '1', '2', 'Anthony Valencia', 'Sr.', 'St. John Bosco', 'CA', 'Arizona State', '2', '3', 'Logan Massa', 'Sr.', 'St. Johns', 'MI', 'Michigan', '3', '4', 'Fox Baldwin', 'Sr.', 'Kissimmee Osceola', 'FL', 'Virginia', '4', '5', 'Joe Smith', 'Sr.', 'Stillwater', 'OK', 'Oklahoma State', '4(160)', '6', 'Nick Reenan', 'Jr.', 'Wyoming Seminary', 'PA', \"Northwestern '16\", '5', '7', 'Brett Bye', 'Sr.', 'Vermillion', 'SD', 'South Dakota State', '16(160)', '8', 'Kamal Bey', 'Jr.', 'Oak Park River Forest', 'IL', 'HM', '9', 'Mason Reinhardt', 'Sr.', 'Merrill', 'WI', 'Wisconsin', 'NR', '10', 'Beau Breske', 'Jr.', 'Hartford Union', 'WI', '6', '11', 'Joshua Ugalde', 'Sr.', 'Bound Brook', 'NJ', 'Maryland', '7', '12', 'David-Brian Whisler', 'Sr.', 'Warren Howland', 'OH', 'Maryland', '9', '13', 'Luke Norland', 'Sr.', 'Jackson County Central', 'MN', 'Northwestern', '10', '14', 'Isaiah Patton', 'Sr.', 'Dowling Catholic', 'IA', 'Northern Iowa', '16', '15', 'Carver James', 'Sr.', 'Dakota', 'IL', 'Illinois', '17', '16', 'Jacob Holschlag', 'Sr.', 'Union', 'IA', 'Northern Iowa', '18', '17', 'Colston DiBlasi', 'Sr.', 'Park Hill', 'MO', 'Iowa State', '12', '18', 'Daniel Bullard', 'Jr.', 'Archer', 'GA', '13', '19', 'Hayden Hansen', 'Sr.', 'Norman North', 'OK', 'Oklahoma', '14', '20', 'TeShan Campbell', 'Sr.', 'Penn Hills', 'PA', 'NR', '182', '1', 'Zahid Valencia', 'Sr.', 'St. John Bosco', 'CA', 'Arizona State', '1', '2', 'Myles Martin', 'Sr.', 'McDonogh', 'MD', 'Ohio State', '2', '3', 'Kegan Moore', 'Jr.', 'Jackson County Central', 'MN', '3', '4', 'Taylor Lujan', 'Sr.', 'Carrollton', 'GA', 'Northern Iowa', '4', '5', 'Nathan Traxler', 'Jr.', 'Marmion Academy', 'IL', '5', '6', 'Xavier Montalvo', 'Sr.', 'Montini Catholic', 'IL', 'Illinois', '6', '7', 'Justan Rivera', 'Sr.', 'Kennesaw Mountain', 'GA', 'Notre Dame', '7', '8', 'Kollin Moore\\xa0', 'Sr.', 'Norwayne\\xa0', 'OH', 'Ohio State', '8', '9', 'Seth McLeod', 'Sr.', 'Post Falls', 'ID', 'Boise State', '10', '10', 'Ben Darmstadt\\xa0', 'Jr.', 'Elyria', 'OH', 'Cornell', '11', '11', 'Chase Singletary', 'So.', 'Blair Academy', 'NJ', '13', '12', 'Kellan Stout', 'Sr.', 'Mt. Lebanon', 'PA', 'Penn State', '9', '13', 'Caleb Little', 'So.', 'Jefferson ', 'GA', '14', '14', 'Jacob Armstrong', 'Sr.', 'Salem Hills', 'UT', 'Nebraska', '15', '15', 'Cole DePasquale', 'Sr.', 'Robinson', 'VA', 'Stanford', '16', '16', 'Dylan Wisman', 'Sr.', 'Millbrook', 'VA', 'Missouri', '17', '17', 'Jordan Joseph', 'Sr.', 'St. Michael-Albertville', 'MN', '18', '18', 'Chase Osborn', 'Sr.', 'Penn', 'IN', 'Minnesota (Baseball)', '19', '19', 'Evan Hansen', 'Sr.', 'Exira', 'IA', 'Grand View', 'HM', '20', 'Drew Kasper', 'Sr.', 'Lexington', 'OH', 'NR', '195', '1', 'Lance Benick', 'Sr.', 'Totino-Grace', 'MN', 'Arizona State', '1', '2', 'Robert Steveson', 'Sr.', 'Apple Valley', 'MN', 'Minnesota', '2', '3', 'Hunter Ritter', 'Sr.', 'John Carroll', 'MD', 'Wisconsin', '5', '4', 'Samuel Colbray', 'Jr.', 'Newberg', 'OR', '7', '5', 'Tevis Barlett', 'Sr.', 'Cheyenne East', 'WY', 'Washington (FB)', '8', '6', 'Dylan Reynolds', 'Sr.', 'Saegartown', 'PA', 'Clarion', '9', '7', 'Tyree Sutton', 'Sr.', 'Keansburg', 'NJ', '18', '8', 'Matthew Correnti', 'Jr.', 'Holy Cross', 'NJ', 'Wisconsin', '4', '9', 'Andrew Mardsen', 'Sr.', 'Crystal Lake Central', 'IL', 'Oklahoma State', '10', '10', 'Jan Johnson', 'Sr.', 'Governor Mifflin', 'PA', 'Akron(FB)', '3', '11', 'Austin Flores', 'Sr.', 'Clovis North', 'CA', 'Stanford', '12', '12', 'Chance Cooper', 'Sr.', 'Timberland', 'MO', 'McKendree', 'NR', '13', 'Cash Wilcke', 'Sr.', 'OA-BCIG', 'IA', 'Iowa', '11', '14', 'Jacob Seely', 'Sr.', 'Fruita', 'CO', 'Northern Colorado', '13', '15', 'Wyatt Koelling', 'Jr.', 'Davis', 'UT', '14', '16', 'Blake Rypel', 'Jr.', 'Indianapolis Cathedral', 'IN', ' ', '15', '17', 'Hunter Brown', 'Sr.', 'Centennial', 'NV', '19', '18', 'Jared Aziz', 'Sr.', 'Centauri', 'CO', '20', '19', 'Matt Stencel', 'Jr.', 'Oregon Clay', 'OH', 'Central Michigan', 'NR', '20', 'Nathaniel Rose', 'Sr.', 'Eagle Academy', 'NY', 'Buffalo', 'NR', '220', '1', 'Jordan Wood', 'Jr.', 'Boyertown', 'PA', '1', '2', 'Kenneth Brinson', 'Sr.', 'Marist', 'GA', 'Army', '2', '3', 'Austin Myers', 'Sr.', 'Campbell County', 'KY', 'West Virginia', '3', '4', 'Ryan Parmely', 'Sr.', 'Maquoketa Valley', 'IA', 'Upper Iowa', '5', '5', 'Ethan Andersen', 'Jr.', 'Southeast Polk', 'IA', '6', '6', 'Patrick Grayson', 'Sr.', 'Colonial Forge', 'VA', 'Nebraska', '8', '7', 'Youssif Hemida', 'Sr.', 'Mamaroneck', 'NY', 'Maryland', '9', '8', 'Gannon Gremmel', 'Jr.', 'Hempstead', 'IA', '7', '9', 'Josh Colegrove', 'Sr.', 'Lowell', 'MI', '10', '10', 'Gable Steveson', 'Fr.', 'Apple Valley', 'MN', '11', '11', 'Christian Colucci', 'Sr.', \"St. Peter's Prep\", 'NJ', 'Lehigh  ', '13', '12', 'Trevor Eicher\\xa0', 'Jr.', 'Deer Park', 'WA', '14', '13', 'Reynold Maines', 'Sr.', 'Western Branch', 'PA', 'Clarion', '16', '14', 'David Showunmi', 'Sr.', 'Blair Academy', 'NJ', 'Stanford', '17', '15', 'Ian Butterbrodt', 'Sr.', 'St. Johns Prep', 'MA', 'Brown', '17(285)', '16', 'Seth Nevills', 'Fr.', 'Clovis', 'CA', '20', '17', 'Vincent Feola', 'Sr.', 'Walt Whitman', 'NY', 'HM', '18', 'Devin Rothrock', 'Sr.', 'Arvada', 'CO', 'Northern Colorado', 'NR', '19', 'Joshua King', 'Jr.', 'Hinsdale South', 'IL', 'NR', '20', 'Marc McDonald\\xa0', 'Sr.', 'West Essex', 'NJ', 'NR', '285', '1', 'Michael Johnson', 'Sr.', 'Montini Catholic', 'IL', 'Yale (Football)', '1', '2', 'Zack Chakonis', 'Sr.', 'Don Bosco Prep', 'NJ', 'Northwestern', '3', '3', 'Osawaru Odighizuwa', 'Jr.', 'David Douglas', 'OR', '2', '4', 'Gage Cervenka', 'Sr.', 'Emerald', 'SC', 'Clemson (Football)', '4', '5', 'Kevin Vough', 'So.', 'Elyria', 'OH', '5', '6', 'Tate Orndorff', 'Sr.', 'University', 'WA', 'Oregon State', '6', '7', 'Jake Marnin', 'Sr.', 'Southeast Polk', 'IA', 'Southern Illinois (Football)', '7', '8', 'Andrew\\xa0Dunn\\xa0', 'Sr.', 'Bethlehem Catholic\\xa0', 'PA', 'Virginia Tech', '4(220)', '9', 'Shawn Streck', 'Jr.', 'Merrillville', 'IN', '8', '10', 'Dan Stribal', 'Sr.', 'Bon Homme Scotland', 'SD', 'North Dakota State', '9', '11', 'Chance Veller', 'Jr.', 'Delta', 'OH', '10', '12', 'Mike Rogers', 'Jr.', 'Wyoming Seminary', 'PA', 'North Carolina State', '11', '13', 'Hunter Mullins', 'Jr.', 'Orting', 'WA', '12', '14', 'Ryan Prescott', 'Sr.', 'Whittemore Prescott', 'MI', 'Northern Illinois', '13', '15', 'Al Beattie', 'Sr.', 'Burrell', 'PA', 'Pitt Johnstown', '18', '16', 'Bo Spiller', 'Sr.', 'Solanco', 'PA', 'Bloomsberg', '19', '17', 'Que Overton', 'Sr.', 'Jenks', 'OK', 'Oklahoma (Football)', 'HM', '18', 'Elliott Lee', 'Sr.', 'Archer', 'GA', '12(220)', '19', 'Norman Oglesby', 'Sr.', 'Benjamin Davis', 'IN', 'Cincinnati (Football)', 'NR', '20', 'Nick Rivera', 'So.', 'Brick Memorial', 'NJ', 'NR']\n"
     ]
    }
   ],
   "source": [
    "table_row = table_body[3]\n",
    "print(table_row)\n",
    "print(table_body[13])\n",
    "table_columns = table_row.xpath('//td/node()')\n",
    "print(table_columns)"
   ]
  },
  {
   "cell_type": "code",
   "execution_count": null,
   "metadata": {},
   "outputs": [],
   "source": [
    "print(table_row.xpath('//tr/text()'))\n",
    "print(table_columns[0:20])"
   ]
  },
  {
   "cell_type": "code",
   "execution_count": 48,
   "metadata": {},
   "outputs": [
    {
     "name": "stdout",
     "output_type": "stream",
     "text": [
      "[     Rank         First Last Year            School State  \\\n",
      "0     106                NaN  NaN               NaN   NaN   \n",
      "1       1        Cade Olivas  Fr.    St. John Bosco    CA   \n",
      "2       2  Roman Bravo-Young  Fr.         Sunnyside    AZ   \n",
      "3       3     Gavin Teasdale  Fr.  Jefferson-Morgan    PA   \n",
      "4       4        Drew Mattin  So.             Delta    OH   \n",
      "..    ...                ...  ...               ...   ...   \n",
      "289    16         Bo Spiller  Sr.           Solanco    PA   \n",
      "290    17        Que Overton  Sr.             Jenks    OK   \n",
      "291    18        Elliott Lee  Sr.            Archer    GA   \n",
      "292    19     Norman Oglesby  Sr.    Benjamin Davis    IN   \n",
      "293    20        Nick Rivera  So.    Brick Memorial    NJ   \n",
      "\n",
      "                   College Previous  \n",
      "0                      NaN      NaN  \n",
      "1                      NaN        1  \n",
      "2                      NaN        2  \n",
      "3                      NaN        3  \n",
      "4                      NaN        5  \n",
      "..                     ...      ...  \n",
      "289             Bloomsberg       19  \n",
      "290    Oklahoma (Football)       HM  \n",
      "291                    NaN  12(220)  \n",
      "292  Cincinnati (Football)       NR  \n",
      "293                    NaN       NR  \n",
      "\n",
      "[294 rows x 7 columns]]\n"
     ]
    }
   ],
   "source": [
    "import pandas\n",
    "tbl = pandas.read_html(path)\n",
    "print(tbl)"
   ]
  },
  {
   "cell_type": "code",
   "execution_count": null,
   "metadata": {},
   "outputs": [],
   "source": []
  },
  {
   "cell_type": "code",
   "execution_count": null,
   "metadata": {},
   "outputs": [],
   "source": []
  }
 ],
 "metadata": {
  "kernelspec": {
   "display_name": "Python 3",
   "language": "python",
   "name": "python3"
  },
  "language_info": {
   "codemirror_mode": {
    "name": "ipython",
    "version": 3
   },
   "file_extension": ".py",
   "mimetype": "text/x-python",
   "name": "python",
   "nbconvert_exporter": "python",
   "pygments_lexer": "ipython3",
   "version": "3.7.4"
  }
 },
 "nbformat": 4,
 "nbformat_minor": 2
}
