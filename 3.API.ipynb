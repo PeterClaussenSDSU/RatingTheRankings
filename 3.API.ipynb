{
 "cells": [
  {
   "cell_type": "markdown",
   "metadata": {},
   "source": [
    "# API\n",
    "\n",
    "## The Problem\n",
    "\n",
    "One of the wrestlers I've followed over the years is Luke Zilverberg, 157 for SDSU. He place 8th in 2018, but was not particularly highly ranked in high school (at least, that's my understanding). I'd like go back over the various wrestling web sites and try mine past results - perhaps we might build a machine learning system that produce better rankings.\n",
    "\n",
    "\n",
    "# The Open Mat\n",
    "\n",
    "We'll start with a web site with a very simple API. We simply pass a text query by"
   ]
  },
  {
   "cell_type": "code",
   "execution_count": 24,
   "metadata": {},
   "outputs": [],
   "source": [
    "query =  'https://news.theopenmat.com/?s=zilverberg'"
   ]
  },
  {
   "cell_type": "markdown",
   "metadata": {},
   "source": [
    "This is then loaded as any web page:"
   ]
  },
  {
   "cell_type": "code",
   "execution_count": 25,
   "metadata": {},
   "outputs": [
    {
     "name": "stdout",
     "output_type": "stream",
     "text": [
      "<Element html at 0x124c57350>\n"
     ]
    }
   ],
   "source": [
    "from lxml import html\n",
    "import requests\n",
    "page = requests.get(query)\n",
    "tree = html.fromstring(page.content)\n",
    "print(tree)"
   ]
  },
  {
   "cell_type": "markdown",
   "metadata": {},
   "source": [
    "We will most likely be interested in hyperlinks, so"
   ]
  },
  {
   "cell_type": "code",
   "execution_count": 26,
   "metadata": {},
   "outputs": [
    {
     "name": "stdout",
     "output_type": "stream",
     "text": [
      "['https://www.facebook.com/TOMwrestling/', 'https://www.twitter.com/theopenmat', 'https://www.instagram.com/theopenmat/', 'https://news.theopenmat.com/feed/rss', 'https://news.theopenmat.com/', 'https://news.theopenmat.com/category/college-wrestling-news']\n"
     ]
    }
   ],
   "source": [
    "link_nodes = tree.xpath('//a/@href')\n",
    "print(link_nodes[0:6])"
   ]
  },
  {
   "cell_type": "markdown",
   "metadata": {},
   "source": [
    "We will further want to limit our crawling to rankings."
   ]
  },
  {
   "cell_type": "code",
   "execution_count": 36,
   "metadata": {},
   "outputs": [
    {
     "name": "stdout",
     "output_type": "stream",
     "text": [
      "https://news.theopenmat.com/college-rankings/toms-ncaa-di-wrestling-team-rankings-tournament-dual-january-8th-2020/76100\n",
      "[    Rank              Team  Tournament Points Previous  Unnamed: 4  Rank.1  \\\n",
      "0      1              Iowa              132.5        1         NaN       1   \n",
      "1      2        Penn State               79.5        2         NaN       2   \n",
      "2      3        Ohio State               56.0        3         NaN       3   \n",
      "3      4         Minnesota               54.0        6         NaN       4   \n",
      "4      5            Purdue               48.5       13         NaN       5   \n",
      "5      6     Arizona State               46.5        3         NaN       6   \n",
      "6      7    Oklahoma State               45.5        8         NaN       7   \n",
      "7      7         Wisconsin               47.5        5         NaN       8   \n",
      "8      9      Northwestern               42.0       10         NaN       9   \n",
      "9     10          Nebraska               41.0        7         NaN      10   \n",
      "10    11        Iowa State               40.5       14         NaN      11   \n",
      "11    12     Northern Iowa               37.0       12         NaN      12   \n",
      "12    13         Princeton               36.0        8         NaN      13   \n",
      "13    14            Lehigh               33.0       16         NaN      14   \n",
      "14    15     Virginia Tech               32.5       15         NaN      15   \n",
      "15    16          NC State               32.0       11         NaN      16   \n",
      "16    17          Stanford               23.0       17         NaN      17   \n",
      "17    18          Oklahoma               22.5       21         NaN      18   \n",
      "18    19           Cornell               22.0       24         NaN      19   \n",
      "19    20          Michigan               21.0       23         NaN      20   \n",
      "20    20          Virginia               21.0       21         NaN      21   \n",
      "21    22        Pittsburgh               20.0       18         NaN      22   \n",
      "22    23          Missouri               18.0       19         NaN      23   \n",
      "23    24  Central Michigan               16.5       NR         NaN      24   \n",
      "24    24    North Carolina               16.5       19         NaN      25   \n",
      "\n",
      "              School Record Unnamed: 8  \n",
      "0               Iowa    4-0          1  \n",
      "1           Nebraska    5-0          2  \n",
      "2         Penn State    3-1          3  \n",
      "3      Virginia Tech    5-0          4  \n",
      "4           NC State    4-0          5  \n",
      "5         Ohio State    4-1          8  \n",
      "6      Arizona State    5-1          6  \n",
      "7         Iowa State    2-1          7  \n",
      "8          Wisconsin    7-1          9  \n",
      "9     Oklahoma State    4-1         10  \n",
      "10            Purdue    7-1         NR  \n",
      "11         Princeton    2-2         11  \n",
      "12        Pittsburgh    5-1         12  \n",
      "13            Lehigh    4-3         17  \n",
      "14         Minnesota    5-3         13  \n",
      "15      Northwestern    2-1         14  \n",
      "16          Virginia    3-1         16  \n",
      "17     Northern Iowa    1-2         18  \n",
      "18          Stanford    4-1         20  \n",
      "19    North Carolina    7-1         21  \n",
      "20           Cornell    4-3         NR  \n",
      "21          Missouri    5-4         19  \n",
      "22   Army West Point    6-2         23  \n",
      "23  Central Michigan    3-2         24  \n",
      "24             Rider    2-3         25  ]\n",
      "https://news.theopenmat.com/high-school-wrestling/high-school-wrestling-rankings/national-high-school-wrestling-individual-rankings-january-16th-2020/76189\n",
      "[     WEIGHT/RANK                  NAME          SCHOOL GRADE STATE  \\\n",
      "0            106                   NaN             NaN   NaN   NaN   \n",
      "1              1        Andre Gonzales           Poway   Jr.    CA   \n",
      "2              2  Marc-Anthony McGowan   Blair Academy   Fr.    NJ   \n",
      "3              3            Mac Church      Waynesburg   Fr.    PA   \n",
      "4              4        Evan Tallmadge      Brick Twp.   So.    NJ   \n",
      "..           ...                   ...             ...   ...   ...   \n",
      "289           16         Landon Porter          DeSoto   Sr.    MO   \n",
      "290           17           Josiah Hill     Bakersfield   Sr.    CA   \n",
      "291           18      Ryan Skillington  Francis Howell   Sr.    MO   \n",
      "292           19          Jacob Barnes     McMinnville   Jr.    OR   \n",
      "293           20           Curtis Ruff        Seminole   Sr.    FL   \n",
      "\n",
      "            COLLEGE    LAST  \n",
      "0               NaN     NaN  \n",
      "1               NaN  4(113)  \n",
      "2               NaN       2  \n",
      "3               NaN       3  \n",
      "4               NaN       4  \n",
      "..              ...     ...  \n",
      "289       McKendree      17  \n",
      "290     Little Rock      18  \n",
      "291             NaN      19  \n",
      "292             NaN      20  \n",
      "293  North Carolina      NR  \n",
      "\n",
      "[294 rows x 7 columns]]\n",
      "https://news.theopenmat.com/high-school-wrestling/high-school-wrestling-rankings/national-high-school-wrestling-individual-rankings-january-9th-2020/76125\n",
      "[     WEIGHT/RANK                  NAME          SCHOOL GRADE STATE  \\\n",
      "0            106                   NaN             NaN   NaN   NaN   \n",
      "1              1     Maxximus Martinez  St. John Bosco   Fr.    CA   \n",
      "2              2  Marc-Anthony McGowan   Blair Academy   Fr.    NJ   \n",
      "3              3            Mac Church      Waynesburg   Fr.    PA   \n",
      "4              4        Evan Tallmadge      Brick Twp.   So.    NJ   \n",
      "..           ...                   ...             ...   ...   ...   \n",
      "289           16          James Howard        McCallie   So.    TN   \n",
      "290           17         Landon Porter          DeSoto   Sr.    MO   \n",
      "291           18           Josiah Hill     Bakersfield   Sr.    CA   \n",
      "292           19      Ryan Skillington  Francis Howell   Sr.    MO   \n",
      "293           20          Jacob Barnes     McMinnville   Jr.    OR   \n",
      "\n",
      "         COLLEGE LAST  \n",
      "0            NaN  NaN  \n",
      "1            NaN    1  \n",
      "2            NaN    2  \n",
      "3            NaN    3  \n",
      "4            NaN    4  \n",
      "..           ...  ...  \n",
      "289          NaN   17  \n",
      "290    McKendree   18  \n",
      "291  Little Rock   19  \n",
      "292          NaN   20  \n",
      "293          NaN   NR  \n",
      "\n",
      "[294 rows x 7 columns]]\n",
      "https://news.theopenmat.com/high-school-wrestling/high-school-wrestling-class-rankings/top-100-wrestlers-in-the-class-of-2021-january-29th-2020/76320\n",
      "No tables at https://news.theopenmat.com/high-school-wrestling/high-school-wrestling-class-rankings/top-100-wrestlers-in-the-class-of-2021-january-29th-2020/76320\n"
     ]
    }
   ],
   "source": [
    "import pandas\n",
    "import re\n",
    "\n",
    "for link in link_nodes:\n",
    "\n",
    "     if re.search('.*rankings.*/[0-9]+$', link)!=None :\n",
    "        print(link)\n",
    "        page = requests.get(link)\n",
    "        tree = html.fromstring(page.content)\n",
    "        try:\n",
    "             tbl = pandas.read_html(link)\n",
    "             print(tbl)\n",
    "        except:\n",
    "             print(\"No tables at \"+link)     "
   ]
  },
  {
   "cell_type": "markdown",
   "metadata": {},
   "source": [
    "## FloWrestling\n",
    "FloWresting has a similar API, but also allows us to specify a category (this will be accessible through a tab in the main page)."
   ]
  },
  {
   "cell_type": "code",
   "execution_count": 37,
   "metadata": {},
   "outputs": [
    {
     "name": "stdout",
     "output_type": "stream",
     "text": [
      "['https://arena.flowrestling.org', '/articles', '/events', '/rankings', '/results', '/training']\n"
     ]
    }
   ],
   "source": [
    "query = 'https://www.flowrestling.org/search?q=zilverberg&type=ranking'\n",
    "page = requests.get(query)\n",
    "tree = html.fromstring(page.content)\n",
    "link_nodes = tree.xpath('//a/@href')\n",
    "print(link_nodes[0:6])"
   ]
  },
  {
   "cell_type": "code",
   "execution_count": 38,
   "metadata": {},
   "outputs": [
    {
     "name": "stdout",
     "output_type": "stream",
     "text": [
      "No tables at https://www.flowrestling.org/rankings/6194310-2018-recruiting-class-rankings/28105-2018-recruiting-class-rankings\n",
      "No tables at https://www.flowrestling.org/rankings/6031443-2013-recruiting-class-rankings/14110-2013-recruiting-class-rankings\n",
      "No tables at https://www.flowrestling.org/rankings/6031439-2012-recruiting-class-rankings/14106-2012-recruiting-class-rankings\n",
      "No tables at https://www.flowrestling.org/rankings/6031438-2011-recruiting-class-rankings/14105-2011-recruiting-class-rankings\n",
      "No tables at https://www.flowrestling.org/rankings/6031437-2010-recruiting-class-rankings/14104-2010-recruiting-class-rankings\n"
     ]
    }
   ],
   "source": [
    "for link in link_nodes:\n",
    "    if (link.find('recruiting') != -1):\n",
    "        link_url = 'https://www.flowrestling.org'+link\n",
    "        page = requests.get(link_url)\n",
    "        tree = html.fromstring(page.content)\n",
    "        try:\n",
    "             tbl = pandas.read_html(link_url)\n",
    "             print(tbl)\n",
    "        except:\n",
    "             print(\"No tables at \"+link_url)  "
   ]
  },
  {
   "cell_type": "markdown",
   "metadata": {},
   "source": [
    "Compare this with the results query (I’ve included some of the other API calls)"
   ]
  },
  {
   "cell_type": "code",
   "execution_count": 40,
   "metadata": {},
   "outputs": [
    {
     "name": "stdout",
     "output_type": "stream",
     "text": [
      "['https://arena.flowrestling.org', '/articles', '/events', '/rankings', '/results', '/training', '/films', 'http://www.flosports.tv/work-with-us', 'http://www.flosports.tv/contact/', 'http://www.flosports.tv/faq/']\n"
     ]
    }
   ],
   "source": [
    "query = 'https://www.flowrestling.org/search?q=zilverberg&page=1&limit=10&sort=recent&type=result'\n",
    "page = requests.get(query)\n",
    "tree = html.fromstring(page.content)\n",
    "link_nodes = tree.xpath('//a/@href')"
   ]
  },
  {
   "cell_type": "code",
   "execution_count": 41,
   "metadata": {},
   "outputs": [
    {
     "name": "stdout",
     "output_type": "stream",
     "text": [
      "No tables at https://www.flowrestling.org/results/6144120-2018-ncaa-championships/24035\n",
      "No tables at https://www.flowrestling.org/results/6129591-big-12-championship-2018-ncaa-wrestling/23978\n"
     ]
    }
   ],
   "source": [
    "for link in link_nodes:\n",
    "    if (link.find('championship') != -1):\n",
    "        link_url = 'https://www.flowrestling.org'+link\n",
    "        page = requests.get(link_url)\n",
    "        tree = html.fromstring(page.content)\n",
    "        try:\n",
    "             tbl = pandas.read_html(link_url)\n",
    "             print(tbl)\n",
    "        except:\n",
    "             print(\"No tables at \"+link_url)  "
   ]
  },
  {
   "cell_type": "markdown",
   "metadata": {},
   "source": [
    "This example is a bit unfair - the pages returned from Flo don’t look like HTML (or anything ML-like, for that matter). There are some sites in the Exercises that have more accessible API, but, unfortunately, Flo is probably more complete.\n",
    "\n",
    "Trackwrestling\n",
    "www.trackwrestling.com also has an extensive data base, but it’s API is more cryptic - I’ll include it for illustation only."
   ]
  },
  {
   "cell_type": "code",
   "execution_count": 44,
   "metadata": {},
   "outputs": [
    {
     "name": "stdout",
     "output_type": "stream",
     "text": [
      "['TWMemberList.jsp?TIM=1580960890358&twSessionId=zvsxsjdwnd&', 'MyTrackSignIn.jsp?TIM=1580960890358&twSessionId=zvsxsjdwnd&twId=2098662009', 'MyTrackSignIn.jsp?createAccount&wrestler&TIM=1580960890358&twSessionId=zvsxsjdwnd&', '../Login.jsp?TIM=1580960890358&twSessionId=zvsxsjdwnd', '../seasons/index.jsp?TIM=1580960890358&twSessionId=zvsxsjdwnd', '../PortalPlayer.jsp?TIM=1580960890358&twSessionId=zvsxsjdwnd&portalId=457091009', '../PortalPost.jsp?TIM=1580960890358&twSessionId=zvsxsjdwnd&portalId=457091009', 'ViewProfile.jsp?TIM=1580960890358&twSessionId=zvsxsjdwnd&twId=126104009', 'ViewProfile.jsp?TIM=1580960890358&twSessionId=zvsxsjdwnd&twId=9881107', 'ViewProfile.jsp?TIM=1580960890358&twSessionId=zvsxsjdwnd&twId=53400009', 'ViewProfile.jsp?TIM=1580960890358&twSessionId=zvsxsjdwnd&twId=1880111009', 'ViewProfile.jsp?TIM=1580960890358&twSessionId=zvsxsjdwnd&twId=994012096', 'MemberRankings.jsp?TIM=1580960890358&twSessionId=zvsxsjdwnd', 'ViewClub.jsp?TIM=1580960890358&twSessionId=zvsxsjdwnd&clubId=46861009', 'ViewClub.jsp?TIM=1580960890358&twSessionId=zvsxsjdwnd&clubId=186291009', 'ViewClub.jsp?TIM=1580960890358&twSessionId=zvsxsjdwnd&clubId=47878009', 'ViewClub.jsp?TIM=1580960890358&twSessionId=zvsxsjdwnd&clubId=62936009', 'ViewClub.jsp?TIM=1580960890358&twSessionId=zvsxsjdwnd&clubId=82396009', 'ClubRankings.jsp?TIM=1580960890358&twSessionId=zvsxsjdwnd', 'https://gold.trackwrestling.com?TIM=1580960890358&twSessionId=zvsxsjdwnd', '../AboutTrackcast.jsp?TIM=1580960890358&twSessionId=zvsxsjdwnd']\n"
     ]
    }
   ],
   "source": [
    "query = 'https://www.trackwrestling.com/tw/membership/ViewProfile.jsp?TIM=1580939416681&twSessionId=zvsxsjdwnd&twId=2098662009'\n",
    "page = requests.get(query)\n",
    "tree = html.fromstring(page.content)\n",
    "link_nodes = tree.xpath('//a/@href')\n",
    "print(link_nodes)"
   ]
  },
  {
   "cell_type": "markdown",
   "metadata": {},
   "source": [
    "# Exercises\n",
    "\n",
    "# 1\n",
    "\n",
    "Note that in our first example from The Open Mat, some of the links are of the form\n",
    "`https://news.theopenmat.com/page/2?s=zilverberg` . Write a script to parse the result from\n",
    "https://news.theopenmat.com/?s=zilverberg and iterate over these additional pages in turn.\n",
    "\n",
    "\n",
    "# 2\n",
    "\n",
    "Iterate over each wrestler in the `ncaa2018.csv` file, and write a script to crawl the web to find wrestling results or rankings (perhaps video?) for each wrestler.\n",
    "\n",
    "# 3\n",
    "\n",
    "Visit the web site [Quant Wrestling](https://quantwrestling.com/) and [The Intermat](https://intermatwrestle.com/rankings/college/)\n",
    "Can you write code to load rakings for the 149 pound weight class, and to compare those rankings?\n"
   ]
  },
  {
   "cell_type": "code",
   "execution_count": null,
   "metadata": {},
   "outputs": [],
   "source": []
  }
 ],
 "metadata": {
  "kernelspec": {
   "display_name": "Python 3",
   "language": "python",
   "name": "python3"
  },
  "language_info": {
   "codemirror_mode": {
    "name": "ipython",
    "version": 3
   },
   "file_extension": ".py",
   "mimetype": "text/x-python",
   "name": "python",
   "nbconvert_exporter": "python",
   "pygments_lexer": "ipython3",
   "version": "3.7.4"
  }
 },
 "nbformat": 4,
 "nbformat_minor": 2
}
